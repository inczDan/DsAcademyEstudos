{
 "cells": [
  {
   "cell_type": "markdown",
   "id": "cb0f59f2",
   "metadata": {},
   "source": [
    "Colocando algunss itens dentro de um array, e insert com indice\n",
    "Quando vem antes da variavel é uma function, se vem dps, é um metodo.\n"
   ]
  },
  {
   "cell_type": "code",
   "execution_count": 13,
   "id": "dccab1e0",
   "metadata": {},
   "outputs": [],
   "source": [
    "lista_de_cidades = []"
   ]
  },
  {
   "cell_type": "code",
   "execution_count": 14,
   "id": "83203a68",
   "metadata": {},
   "outputs": [
    {
     "data": {
      "text/plain": [
       "['Goias', 'São Paulo', 'Mato Grosso', 'Rio de Janeiro']"
      ]
     },
     "execution_count": 14,
     "metadata": {},
     "output_type": "execute_result"
    }
   ],
   "source": [
    "lista_de_cidades.append('Goias')\n",
    "lista_de_cidades.append('São Paulo')\n",
    "lista_de_cidades.append('Mato Grosso')\n",
    "lista_de_cidades.append(\"Rio de Janeiro\")\n",
    "lista_de_cidades"
   ]
  },
  {
   "cell_type": "code",
   "execution_count": 15,
   "id": "02e7cae0",
   "metadata": {},
   "outputs": [],
   "source": [
    "lista_de_cidades.insert(2, 'Paraná')"
   ]
  },
  {
   "cell_type": "code",
   "execution_count": 16,
   "id": "6f328c3d",
   "metadata": {},
   "outputs": [
    {
     "data": {
      "text/plain": [
       "['Goias', 'São Paulo', 'Paraná', 'Mato Grosso', 'Rio de Janeiro']"
      ]
     },
     "execution_count": 16,
     "metadata": {},
     "output_type": "execute_result"
    }
   ],
   "source": [
    "lista_de_cidades"
   ]
  }
 ],
 "metadata": {
  "kernelspec": {
   "display_name": "Python 3 (ipykernel)",
   "language": "python",
   "name": "python3"
  },
  "language_info": {
   "codemirror_mode": {
    "name": "ipython",
    "version": 3
   },
   "file_extension": ".py",
   "mimetype": "text/x-python",
   "name": "python",
   "nbconvert_exporter": "python",
   "pygments_lexer": "ipython3",
   "version": "3.8.10"
  }
 },
 "nbformat": 4,
 "nbformat_minor": 5
}
